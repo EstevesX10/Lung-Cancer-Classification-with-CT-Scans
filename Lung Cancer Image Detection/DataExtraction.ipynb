{
 "cells": [
  {
   "cell_type": "markdown",
   "id": "f5fc21cf-f44e-41c6-a153-4700f43c4eef",
   "metadata": {},
   "source": [
    "---\n",
    "<div align=\"center\">\n",
    "\n",
    "# Lung Cancer Classification\n",
    "</div>\n",
    "\n",
    "---"
   ]
  },
  {
   "cell_type": "code",
   "execution_count": 8,
   "id": "51d6aea7-3bd4-4993-81e8-3993d62f39b6",
   "metadata": {},
   "outputs": [],
   "source": [
    "import numpy as np\n",
    "np.int = np.int32\n",
    "import pandas as pd\n",
    "import matplotlib.pyplot as plt\n",
    "import radiomics\n",
    "import pylidc as pl"
   ]
  },
  {
   "cell_type": "code",
   "execution_count": 2,
   "id": "6f1c89cc-b4a0-4efd-a4d0-183ea5e14332",
   "metadata": {},
   "outputs": [],
   "source": [
    "# pl.__version__"
   ]
  },
  {
   "cell_type": "code",
   "execution_count": 3,
   "id": "011b5e42-ad0d-4727-a880-592081f0b0fc",
   "metadata": {},
   "outputs": [],
   "source": [
    "# !pip install pylidc"
   ]
  },
  {
   "cell_type": "code",
   "execution_count": 4,
   "id": "00257351-c424-4647-9053-195b85272ceb",
   "metadata": {},
   "outputs": [
    {
     "name": "stdout",
     "output_type": "stream",
     "text": [
      "Help on built-in function dir in module builtins:\n",
      "\n",
      "dir(...)\n",
      "    dir([object]) -> list of strings\n",
      "    \n",
      "    If called without an argument, return the names in the current scope.\n",
      "    Else, return an alphabetized list of names comprising (some of) the attributes\n",
      "    of the given object, and of attributes reachable from it.\n",
      "    If the object supplies a method named __dir__, it will be used; otherwise\n",
      "    the default dir() logic is used and returns:\n",
      "      for a module object: the module's attributes.\n",
      "      for a class object:  its attributes, and recursively the attributes\n",
      "        of its bases.\n",
      "      for any other object: its attributes, its class's attributes, and\n",
      "        recursively the attributes of its class's base classes.\n",
      "\n"
     ]
    }
   ],
   "source": [
    "help(dir)"
   ]
  },
  {
   "cell_type": "markdown",
   "id": "f040fbb7-9ea8-4dbb-ab2e-9b3ebd5fba3f",
   "metadata": {},
   "source": [
    "---\n",
    "## Data Exploration and Extraction\n",
    "---"
   ]
  },
  {
   "cell_type": "code",
   "execution_count": 16,
   "id": "11b1abe5-9f6e-4521-b4de-e2f36dff0f1a",
   "metadata": {},
   "outputs": [
    {
     "name": "stdout",
     "output_type": "stream",
     "text": [
      "There are 1010 Total Patients\n"
     ]
    }
   ],
   "source": [
    "# Checking the amount of patients available\n",
    "print(f\"There are {np.unique(np.array([scan.patient_id for scan in pl.query(pl.Scan).all()])).size} Total Patients\")"
   ]
  },
  {
   "cell_type": "code",
   "execution_count": 5,
   "id": "e0b9f459-b471-42e0-aeb4-6f19bb8dbbeb",
   "metadata": {},
   "outputs": [
    {
     "name": "stdout",
     "output_type": "stream",
     "text": [
      "There are 1018 Scans available\n"
     ]
    }
   ],
   "source": [
    "# Checking the amount of scans available\n",
    "print(f\"There are {len(pl.query(pl.Scan).all())} Scans available\")"
   ]
  },
  {
   "cell_type": "code",
   "execution_count": 6,
   "id": "563aff17-0454-4df3-acb3-c9bfca7d4615",
   "metadata": {},
   "outputs": [
    {
     "name": "stdout",
     "output_type": "stream",
     "text": [
      "There are 6859 Annotation available\n"
     ]
    }
   ],
   "source": [
    "# Checking the amount of Annotations available\n",
    "print(f\"There are {len(pl.query(pl.Annotation).all())} Annotation available\")"
   ]
  },
  {
   "cell_type": "markdown",
   "id": "f8191179-48f0-49f1-8386-c69d33958338",
   "metadata": {},
   "source": [
    "---\n",
    "### Patient Nodules Visualization\n",
    "---\n",
    "\n",
    "Let's select the first patient scan available and visualize how his nodules data look like\n"
   ]
  },
  {
   "cell_type": "code",
   "execution_count": 9,
   "id": "92577ba0-435d-46a2-b9da-09ab4c8e3271",
   "metadata": {},
   "outputs": [
    {
     "name": "stdout",
     "output_type": "stream",
     "text": [
      "The Patient LIDC-IDRI-0078's Scan has 4 Nodules\n"
     ]
    }
   ],
   "source": [
    "# Fetching the first available scan and the correpondent patient\n",
    "scan = pl.query(pl.Scan).first()\n",
    "patientID = scan.patient_id\n",
    "patientScanNodules = scan.cluster_annotations()\n",
    "print(f\"The Patient {patientID}'s Scan has {len(patientScanNodules)} Nodules\")"
   ]
  },
  {
   "cell_type": "code",
   "execution_count": 10,
   "id": "4845e6c6-0cb2-4341-897f-c2d3d2776bf8",
   "metadata": {
    "scrolled": true
   },
   "outputs": [],
   "source": [
    "patientScanNodulesAnnotations = scan.annotations"
   ]
  },
  {
   "cell_type": "code",
   "execution_count": 11,
   "id": "84436ca0-ca7a-4719-b588-b56d560b5364",
   "metadata": {
    "scrolled": true
   },
   "outputs": [
    {
     "name": "stdout",
     "output_type": "stream",
     "text": [
      "Loading dicom files ... This may take a moment.\n"
     ]
    },
    {
     "ename": "RuntimeError",
     "evalue": "Couldn't find DICOM files for Scan(id=1,patient_id=LIDC-IDRI-0078) in C:\\Users\\Gongas\\LIDC-IDRI\\LIDC-IDRI-0078",
     "output_type": "error",
     "traceback": [
      "\u001b[1;31m---------------------------------------------------------------------------\u001b[0m",
      "\u001b[1;31mRuntimeError\u001b[0m                              Traceback (most recent call last)",
      "Cell \u001b[1;32mIn[11], line 2\u001b[0m\n\u001b[0;32m      1\u001b[0m ann \u001b[38;5;241m=\u001b[39m patientScanNodulesAnnotations[\u001b[38;5;241m0\u001b[39m]\n\u001b[1;32m----> 2\u001b[0m \u001b[43mann\u001b[49m\u001b[38;5;241;43m.\u001b[39;49m\u001b[43mvisualize_in_scan\u001b[49m\u001b[43m(\u001b[49m\u001b[43m)\u001b[49m\n",
      "File \u001b[1;32m~\\AppData\\Roaming\\Python\\Python310\\site-packages\\pylidc\\Annotation.py:808\u001b[0m, in \u001b[0;36mAnnotation.visualize_in_scan\u001b[1;34m(self, verbose)\u001b[0m\n\u001b[0;32m    792\u001b[0m \u001b[38;5;28;01mdef\u001b[39;00m \u001b[38;5;21mvisualize_in_scan\u001b[39m(\u001b[38;5;28mself\u001b[39m, verbose\u001b[38;5;241m=\u001b[39m\u001b[38;5;28;01mTrue\u001b[39;00m):\n\u001b[0;32m    793\u001b[0m \u001b[38;5;250m    \u001b[39m\u001b[38;5;124;03m\"\"\"\u001b[39;00m\n\u001b[0;32m    794\u001b[0m \u001b[38;5;124;03m    Engage an interactive visualization of the slices of the scan \u001b[39;00m\n\u001b[0;32m    795\u001b[0m \u001b[38;5;124;03m    along with scan and annotation information.\u001b[39;00m\n\u001b[1;32m   (...)\u001b[0m\n\u001b[0;32m    806\u001b[0m \u001b[38;5;124;03m        Turn the image loading statement on/off.\u001b[39;00m\n\u001b[0;32m    807\u001b[0m \u001b[38;5;124;03m    \"\"\"\u001b[39;00m\n\u001b[1;32m--> 808\u001b[0m     images \u001b[38;5;241m=\u001b[39m \u001b[38;5;28;43mself\u001b[39;49m\u001b[38;5;241;43m.\u001b[39;49m\u001b[43mscan\u001b[49m\u001b[38;5;241;43m.\u001b[39;49m\u001b[43mload_all_dicom_images\u001b[49m\u001b[43m(\u001b[49m\u001b[43mverbose\u001b[49m\u001b[43m)\u001b[49m\n\u001b[0;32m    810\u001b[0m     \u001b[38;5;66;03m# Preload contours and sort them by z pos.\u001b[39;00m\n\u001b[0;32m    811\u001b[0m     contours \u001b[38;5;241m=\u001b[39m \u001b[38;5;28msorted\u001b[39m(\u001b[38;5;28mself\u001b[39m\u001b[38;5;241m.\u001b[39mcontours, key\u001b[38;5;241m=\u001b[39m\u001b[38;5;28;01mlambda\u001b[39;00m c: c\u001b[38;5;241m.\u001b[39mimage_z_position)\n",
      "File \u001b[1;32m~\\AppData\\Roaming\\Python\\Python310\\site-packages\\pylidc\\Scan.py:288\u001b[0m, in \u001b[0;36mScan.load_all_dicom_images\u001b[1;34m(self, verbose)\u001b[0m\n\u001b[0;32m    261\u001b[0m \u001b[38;5;250m\u001b[39m\u001b[38;5;124;03m\"\"\"\u001b[39;00m\n\u001b[0;32m    262\u001b[0m \u001b[38;5;124;03mLoad all the DICOM images assocated with this scan and return as list.\u001b[39;00m\n\u001b[0;32m    263\u001b[0m \n\u001b[1;32m   (...)\u001b[0m\n\u001b[0;32m    284\u001b[0m \n\u001b[0;32m    285\u001b[0m \u001b[38;5;124;03m\"\"\"\u001b[39;00m\n\u001b[0;32m    286\u001b[0m \u001b[38;5;28;01mif\u001b[39;00m verbose: \u001b[38;5;28mprint\u001b[39m(\u001b[38;5;124m\"\u001b[39m\u001b[38;5;124mLoading dicom files ... This may take a moment.\u001b[39m\u001b[38;5;124m\"\u001b[39m)\n\u001b[1;32m--> 288\u001b[0m path \u001b[38;5;241m=\u001b[39m \u001b[38;5;28;43mself\u001b[39;49m\u001b[38;5;241;43m.\u001b[39;49m\u001b[43mget_path_to_dicom_files\u001b[49m\u001b[43m(\u001b[49m\u001b[43m)\u001b[49m\n\u001b[0;32m    289\u001b[0m fnames \u001b[38;5;241m=\u001b[39m [fname \u001b[38;5;28;01mfor\u001b[39;00m fname \u001b[38;5;129;01min\u001b[39;00m os\u001b[38;5;241m.\u001b[39mlistdir(path)\n\u001b[0;32m    290\u001b[0m                     \u001b[38;5;28;01mif\u001b[39;00m fname\u001b[38;5;241m.\u001b[39mendswith(\u001b[38;5;124m'\u001b[39m\u001b[38;5;124m.dcm\u001b[39m\u001b[38;5;124m'\u001b[39m) \u001b[38;5;129;01mand\u001b[39;00m \u001b[38;5;129;01mnot\u001b[39;00m fname\u001b[38;5;241m.\u001b[39mstartswith(\u001b[38;5;124m\"\u001b[39m\u001b[38;5;124m.\u001b[39m\u001b[38;5;124m\"\u001b[39m)]\n\u001b[0;32m    291\u001b[0m images \u001b[38;5;241m=\u001b[39m []\n",
      "File \u001b[1;32m~\\AppData\\Roaming\\Python\\Python310\\site-packages\\pylidc\\Scan.py:221\u001b[0m, in \u001b[0;36mScan.get_path_to_dicom_files\u001b[1;34m(self)\u001b[0m\n\u001b[0;32m    219\u001b[0m \u001b[38;5;28;01mif\u001b[39;00m \u001b[38;5;129;01mnot\u001b[39;00m os\u001b[38;5;241m.\u001b[39mpath\u001b[38;5;241m.\u001b[39mexists(base):\n\u001b[0;32m    220\u001b[0m     msg \u001b[38;5;241m=\u001b[39m \u001b[38;5;124m\"\u001b[39m\u001b[38;5;124mCouldn\u001b[39m\u001b[38;5;124m'\u001b[39m\u001b[38;5;124mt find DICOM files for \u001b[39m\u001b[38;5;132;01m{}\u001b[39;00m\u001b[38;5;124m in \u001b[39m\u001b[38;5;132;01m{}\u001b[39;00m\u001b[38;5;124m\"\u001b[39m\n\u001b[1;32m--> 221\u001b[0m     \u001b[38;5;28;01mraise\u001b[39;00m \u001b[38;5;167;01mRuntimeError\u001b[39;00m(msg\u001b[38;5;241m.\u001b[39mformat(\u001b[38;5;28mself\u001b[39m, base))\n\u001b[0;32m    223\u001b[0m path \u001b[38;5;241m=\u001b[39m os\u001b[38;5;241m.\u001b[39mpath\u001b[38;5;241m.\u001b[39mjoin(base,\n\u001b[0;32m    224\u001b[0m                     \u001b[38;5;28mself\u001b[39m\u001b[38;5;241m.\u001b[39mstudy_instance_uid,\n\u001b[0;32m    225\u001b[0m                     \u001b[38;5;28mself\u001b[39m\u001b[38;5;241m.\u001b[39mseries_instance_uid)\n\u001b[0;32m    227\u001b[0m \u001b[38;5;66;03m# Check if old path first. If not found, do recursive search.\u001b[39;00m\n",
      "\u001b[1;31mRuntimeError\u001b[0m: Couldn't find DICOM files for Scan(id=1,patient_id=LIDC-IDRI-0078) in C:\\Users\\Gongas\\LIDC-IDRI\\LIDC-IDRI-0078"
     ]
    }
   ],
   "source": [
    "ann = patientScanNodulesAnnotations[0]\n",
    "ann.visualize_in_scan()"
   ]
  },
  {
   "cell_type": "markdown",
   "id": "22e7fd6f-d8ce-4a5c-926c-90f386823dc7",
   "metadata": {},
   "source": [
    "---\n",
    "### Annotation Class Analysis\n",
    "---"
   ]
  },
  {
   "cell_type": "code",
   "execution_count": 5,
   "id": "b8e2f902-128c-4577-b681-7421ba611a71",
   "metadata": {},
   "outputs": [
    {
     "name": "stdout",
     "output_type": "stream",
     "text": [
      "Feature              Meaning                    # \n",
      "-                    -                          - \n",
      "Subtlety           | Obvious                  | 5 \n",
      "Internalstructure  | Soft Tissue              | 1 \n",
      "Calcification      | Absent                   | 6 \n",
      "Sphericity         | Ovoid                    | 3 \n",
      "Margin             | Near Sharp               | 4 \n",
      "Lobulation         | No Lobulation            | 1 \n",
      "Spiculation        | No Spiculation           | 1 \n",
      "Texture            | Solid                    | 5 \n",
      "Malignancy         | Indeterminate            | 3 \n"
     ]
    }
   ],
   "source": [
    "ann = pl.query(pl.Annotation).first()\n",
    "ann.print_formatted_feature_table()"
   ]
  },
  {
   "cell_type": "code",
   "execution_count": 6,
   "id": "b231724d-9fc5-48c7-b1ca-c2e2638cd128",
   "metadata": {},
   "outputs": [],
   "source": [
    "# Inspect all the attributes inside an Annotation Object\n",
    "annotationParams = [param for param, paramValue in pl.Annotation.__dict__.items() if param[0] != '_' and not callable(paramValue)]\n",
    "# annotationParams"
   ]
  },
  {
   "cell_type": "markdown",
   "id": "96e2f48e-d111-4a73-9d0b-a5fdc2abf7ba",
   "metadata": {},
   "source": [
    "Let's take a look on the first available Annotation"
   ]
  },
  {
   "cell_type": "code",
   "execution_count": 10,
   "id": "5fb9db0b-447e-418b-a551-8b86619ece3a",
   "metadata": {},
   "outputs": [
    {
     "data": {
      "text/plain": [
       "Annotation(id=1,scan_id=1)"
      ]
     },
     "execution_count": 10,
     "metadata": {},
     "output_type": "execute_result"
    }
   ],
   "source": [
    "pl.query(pl.Annotation).first()"
   ]
  },
  {
   "cell_type": "markdown",
   "id": "fde5a21f-1843-48ad-9081-7b32549ec1c0",
   "metadata": {},
   "source": [
    "---\n",
    "### Scan Class Analysis\n",
    "---"
   ]
  },
  {
   "cell_type": "code",
   "execution_count": 7,
   "id": "b21e2cf2-d6ab-418c-a030-ebe628ba58ab",
   "metadata": {},
   "outputs": [],
   "source": [
    "# Inspect all the attributes inside an Scan Object\n",
    "scanParams = [param for param, paramValue in pl.Scan.__dict__.items() if param[0] != '_' and not callable(paramValue)]\n",
    "# scanParams"
   ]
  },
  {
   "cell_type": "markdown",
   "id": "99a3c103-545a-4ce7-8214-8ba02f448b68",
   "metadata": {},
   "source": []
  }
 ],
 "metadata": {
  "kernelspec": {
   "display_name": "Python 3 (ipykernel)",
   "language": "python",
   "name": "python3"
  },
  "language_info": {
   "codemirror_mode": {
    "name": "ipython",
    "version": 3
   },
   "file_extension": ".py",
   "mimetype": "text/x-python",
   "name": "python",
   "nbconvert_exporter": "python",
   "pygments_lexer": "ipython3",
   "version": "3.10.0"
  }
 },
 "nbformat": 4,
 "nbformat_minor": 5
}
