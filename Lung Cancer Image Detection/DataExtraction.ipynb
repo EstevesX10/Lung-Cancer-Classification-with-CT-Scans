{
 "cells": [
  {
   "cell_type": "code",
   "execution_count": 17,
   "id": "51d6aea7-3bd4-4993-81e8-3993d62f39b6",
   "metadata": {},
   "outputs": [],
   "source": [
    "import numpy as np\n",
    "import pandas as pd\n",
    "import matplotlib.pyplot as plt\n",
    "import radiomics\n",
    "import pylidc as pl"
   ]
  },
  {
   "cell_type": "code",
   "execution_count": 18,
   "id": "00257351-c424-4647-9053-195b85272ceb",
   "metadata": {},
   "outputs": [
    {
     "name": "stdout",
     "output_type": "stream",
     "text": [
      "Help on built-in function dir in module builtins:\n",
      "\n",
      "dir(...)\n",
      "    dir([object]) -> list of strings\n",
      "    \n",
      "    If called without an argument, return the names in the current scope.\n",
      "    Else, return an alphabetized list of names comprising (some of) the attributes\n",
      "    of the given object, and of attributes reachable from it.\n",
      "    If the object supplies a method named __dir__, it will be used; otherwise\n",
      "    the default dir() logic is used and returns:\n",
      "      for a module object: the module's attributes.\n",
      "      for a class object:  its attributes, and recursively the attributes\n",
      "        of its bases.\n",
      "      for any other object: its attributes, its class's attributes, and\n",
      "        recursively the attributes of its class's base classes.\n",
      "\n"
     ]
    }
   ],
   "source": [
    "help(dir)"
   ]
  },
  {
   "cell_type": "markdown",
   "id": "f040fbb7-9ea8-4dbb-ab2e-9b3ebd5fba3f",
   "metadata": {},
   "source": [
    "---\n",
    "## Data Exploration and Extraction\n",
    "---"
   ]
  },
  {
   "cell_type": "code",
   "execution_count": 53,
   "id": "e0b9f459-b471-42e0-aeb4-6f19bb8dbbeb",
   "metadata": {},
   "outputs": [
    {
     "name": "stdout",
     "output_type": "stream",
     "text": [
      "There are 1018 Scans available\n"
     ]
    }
   ],
   "source": [
    "# Checking the amount of scans available\n",
    "print(f\"There are {len(pl.query(pl.Scan).all())} Scans available\")"
   ]
  },
  {
   "cell_type": "code",
   "execution_count": 55,
   "id": "563aff17-0454-4df3-acb3-c9bfca7d4615",
   "metadata": {},
   "outputs": [
    {
     "name": "stdout",
     "output_type": "stream",
     "text": [
      "There are 6859 Annotation available\n"
     ]
    }
   ],
   "source": [
    "# Checking the amount of Annotations available\n",
    "print(f\"There are {len(pl.query(pl.Annotation).all())} Annotation available\")"
   ]
  },
  {
   "cell_type": "code",
   "execution_count": 44,
   "id": "b8e2f902-128c-4577-b681-7421ba611a71",
   "metadata": {},
   "outputs": [
    {
     "name": "stdout",
     "output_type": "stream",
     "text": [
      "Feature              Meaning                    # \n",
      "-                    -                          - \n",
      "Subtlety           | Obvious                  | 5 \n",
      "Internalstructure  | Soft Tissue              | 1 \n",
      "Calcification      | Absent                   | 6 \n",
      "Sphericity         | Ovoid                    | 3 \n",
      "Margin             | Near Sharp               | 4 \n",
      "Lobulation         | No Lobulation            | 1 \n",
      "Spiculation        | No Spiculation           | 1 \n",
      "Texture            | Solid                    | 5 \n",
      "Malignancy         | Indeterminate            | 3 \n"
     ]
    }
   ],
   "source": [
    "ann = pl.query(pl.Annotation).first()\n",
    "ann.print_formatted_feature_table()"
   ]
  },
  {
   "cell_type": "markdown",
   "id": "22e7fd6f-d8ce-4a5c-926c-90f386823dc7",
   "metadata": {},
   "source": [
    "---\n",
    "### Annotation Class Analysis\n",
    "---"
   ]
  },
  {
   "cell_type": "markdown",
   "id": "1157b1e8-4fb2-4d1f-866f-2227ee6c611e",
   "metadata": {},
   "source": [
    "> The Nodule model class holds the information from a single physicians annotation of a nodule >= 3mm class with a particular scan. A nodule has many contours, each of which refers to the contour drawn for nodule in each scan slice."
   ]
  },
  {
   "cell_type": "code",
   "execution_count": 73,
   "id": "b231724d-9fc5-48c7-b1ca-c2e2638cd128",
   "metadata": {},
   "outputs": [
    {
     "data": {
      "text/plain": [
       "['id',\n",
       " 'scan_id',\n",
       " 'scan',\n",
       " 'subtlety',\n",
       " 'internalStructure',\n",
       " 'calcification',\n",
       " 'sphericity',\n",
       " 'margin',\n",
       " 'lobulation',\n",
       " 'spiculation',\n",
       " 'texture',\n",
       " 'malignancy',\n",
       " 'Subtlety',\n",
       " 'InternalStructure',\n",
       " 'Calcification',\n",
       " 'Sphericity',\n",
       " 'Margin',\n",
       " 'Lobulation',\n",
       " 'Spiculation',\n",
       " 'Texture',\n",
       " 'Malignancy',\n",
       " 'centroid',\n",
       " 'diameter',\n",
       " 'surface_area',\n",
       " 'volume',\n",
       " 'contour_slice_zvals',\n",
       " 'contour_slice_indices',\n",
       " 'contours_matrix',\n",
       " 'contours']"
      ]
     },
     "execution_count": 73,
     "metadata": {},
     "output_type": "execute_result"
    }
   ],
   "source": [
    "# Inspect all the attributes inside an Annotation Object\n",
    "annotationParams = [param for param, paramValue in pl.Annotation.__dict__.items() if param[0] != '_' and not callable(paramValue)]\n",
    "annotationParams"
   ]
  },
  {
   "cell_type": "markdown",
   "id": "c46f71cd-5eba-4ed8-8ec4-f384947d8269",
   "metadata": {},
   "source": [
    "According to the Documentation an instance of the [Object Annotation](https://pylidc.github.io/annotation.html) contains the following important data:\n",
    "\n",
    "| Parameter         | Type    | Range                   |\n",
    "| :---------------: | :-----: | :---------------------: |\n",
    "| subtlety          | Integer | $\\in \\{1, 2, 3, 4, 5\\}$ |\n",
    "| internalStructure | Integer | $\\in \\{1, 2, 3, 4\\}$    |\n",
    "| calcification     | Integer | $\\in \\{1, 2, 3, 4, 6\\}$ |\n",
    "| sphericity        | Integer | $\\in \\{1, 2, 3, 4, 5\\}$ |\n",
    "| margin            | Integer | $\\in \\{1, 2, 3, 4, 5\\}$ |\n",
    "| lobulation        | Integer | $\\in \\{1, 2, 3, 4, 5\\}$ |\n",
    "| spiculation       | Integer | $\\in \\{1, 2, 3, 4, 5\\}$ |\n",
    "| texture           | Integer | $\\in \\{1, 2, 3, 4, 5\\}$ |\n",
    "| malignancy        | Integer | $\\in \\{1, 2, 3, 4, 5\\}$ |\n",
    "\n",
    "subtlety:\n",
    "    \n",
    "    Difficulty of detection. Higher values indicate easier detection.\n",
    "    \n",
    "    1. 'Extremely Subtle'\n",
    "    2. 'Moderately Subtle'\n",
    "    3. 'Fairly Subtle'\n",
    "    4. 'Moderately Obvious'\n",
    "    5. 'Obvious'\n",
    "\n",
    "internalStructure:\n",
    "\n",
    "    Internal composition of the nodule.\n",
    "\n",
    "    1. 'Soft Tissue'\n",
    "    2. 'Fluid'\n",
    "    3. 'Fat'\n",
    "    4. 'Air'\n",
    "\n",
    "calcification:\n",
    "\n",
    "    Pattern of calcification, if present.\n",
    "\n",
    "    1. 'Popcorn'\n",
    "    2. 'Laminated'\n",
    "    3. 'Solid'\n",
    "    4. 'Non-central'\n",
    "    5. 'Central'\n",
    "    6. 'Absent'\n",
    "\n",
    "sphericity:\n",
    "\n",
    "    The three-dimensional shape of the nodule in terms of its roundness.\n",
    "\n",
    "    1. 'Linear'\n",
    "    2. 'Ovoid/Linear'\n",
    "    3. 'Ovoid'\n",
    "    4. 'Ovoid/Round'\n",
    "    5. 'Round'\n",
    "\n",
    "margin:\n",
    "\n",
    "    Description of how well-defined the nodule margin is.\n",
    "\n",
    "    1. 'Poorly Defined'\n",
    "    2. 'Near Poorly Defined'\n",
    "    3. 'Medium Margin'\n",
    "    4. 'Near Sharp'\n",
    "    5. 'Sharp'\n",
    "\n",
    "lobulation:\n",
    "\n",
    "    The degree of lobulation ranging from none to marked\n",
    "\n",
    "    1. 'No Lobulation'\n",
    "    2. 'Nearly No Lobulation'\n",
    "    3. 'Medium Lobulation'\n",
    "    4. 'Near Marked Lobulation'\n",
    "    5. 'Marked Lobulation'\n",
    "\n",
    "spiculation:\n",
    "\n",
    "    The extent of spiculation present.\n",
    "\n",
    "    1. 'No Spiculation'\n",
    "    2. 'Nearly No Spiculation'\n",
    "    3. 'Medium Spiculation'\n",
    "    4. 'Near Marked Spiculation'\n",
    "    5. 'Marked Spiculation'\n",
    "\n",
    "texture: \n",
    "\n",
    "    Radiographic solidity: internal texture (solid, ground glass, or mixed). \n",
    "\n",
    "    1. 'Non-Solid/GGO'\n",
    "    2. 'Non-Solid/Mixed'\n",
    "    3. 'Part Solid/Mixed'\n",
    "    4. 'Solid/Mixed'\n",
    "    5. 'Solid'\n",
    "\n",
    "malignancy: \n",
    "\n",
    "    Subjective assessment of the likelihood of malignancy, assuming the scan originated from a 60-year-old male smoker. \n",
    "\n",
    "    1. 'Highly Unlikely'\n",
    "    2. 'Moderately Unlikely'\n",
    "    3. 'Indeterminate'\n",
    "    4. 'Moderately Suspicious'\n",
    "    5. 'Highly Suspicious'"
   ]
  },
  {
   "cell_type": "markdown",
   "id": "fde5a21f-1843-48ad-9081-7b32549ec1c0",
   "metadata": {},
   "source": [
    "---\n",
    "### Scan Class Analysis\n",
    "---"
   ]
  },
  {
   "cell_type": "markdown",
   "id": "13bf1f33-a611-4138-bfdd-5c4462918c15",
   "metadata": {},
   "source": [
    "> The Scan model class refers to the top-level XML file from the LIDC. A scan has many pylidc.Annotation objects, which correspond to the unblindedReadNodule XML attributes for the scan."
   ]
  },
  {
   "cell_type": "code",
   "execution_count": 75,
   "id": "b21e2cf2-d6ab-418c-a030-ebe628ba58ab",
   "metadata": {},
   "outputs": [
    {
     "data": {
      "text/plain": [
       "['id',\n",
       " 'study_instance_uid',\n",
       " 'series_instance_uid',\n",
       " 'patient_id',\n",
       " 'slice_thickness',\n",
       " 'pixel_spacing',\n",
       " 'contrast_used',\n",
       " 'is_from_initial',\n",
       " 'sorted_dicom_file_names',\n",
       " 'slice_zvals',\n",
       " 'slice_spacing',\n",
       " 'spacings',\n",
       " 'annotations',\n",
       " 'zvals']"
      ]
     },
     "execution_count": 75,
     "metadata": {},
     "output_type": "execute_result"
    }
   ],
   "source": [
    "# Inspect all the attributes inside an Scan Object\n",
    "scanParams = [param for param, paramValue in pl.Scan.__dict__.items() if param[0] != '_' and not callable(paramValue)]\n",
    "scanParams"
   ]
  },
  {
   "cell_type": "markdown",
   "id": "99a3c103-545a-4ce7-8214-8ba02f448b68",
   "metadata": {},
   "source": [
    "According to the Documentation an instance of the [Object Scan](https://pylidc.github.io/scan.html) contains the following attributes:\n",
    "\n",
    "study_instance_uid \n",
    "> string – DICOM attribute (0020,000D).\n",
    "\n",
    "series_instance_uid \n",
    "> string – DICOM attribute (0020,000E).\n",
    "\n",
    "patient_id \n",
    "> string – Identifier of the form “LIDC-IDRI-dddd” where dddd is a string of integers.\n",
    "\n",
    "slice_thickness \n",
    "> float – DICOM attribute (0018,0050). Note that this may not be equal to the slice_spacing attribute (see below).\n",
    "\n",
    "slice_zvals \n",
    "> ndarray – The “z-values” for the slices of the scan (i.e., the last coordinate of the ImagePositionPatient DICOM attribute) as a NumPy array sorted in increasing order.\n",
    "\n",
    "slice_spacing \n",
    "> float – This computed property is the median of the difference between the slice coordinates, i.e., scan.slice_zvals.\n",
    "\n",
    "pixel_spacing \n",
    "> float – Dicom attribute (0028,0030). This is normally two values. All scans in the LIDC have equal resolutions in the transverse plane, so only one value is used here.\n",
    "\n",
    "contrast_used \n",
    "> bool – If the DICOM file for the scan had any Contrast tag, this is marked as True.\n",
    "\n",
    "is_from_initial \n",
    "> bool – Indicates whether or not this PatientID was tagged as part of the initial 399 release.\n",
    "\n",
    "sorted_dicom_file_names \n",
    "    \n",
    "> string – This attribute is no longer used, and can be ignored."
   ]
  }
 ],
 "metadata": {
  "kernelspec": {
   "display_name": "Python 3 (ipykernel)",
   "language": "python",
   "name": "python3"
  },
  "language_info": {
   "codemirror_mode": {
    "name": "ipython",
    "version": 3
   },
   "file_extension": ".py",
   "mimetype": "text/x-python",
   "name": "python",
   "nbconvert_exporter": "python",
   "pygments_lexer": "ipython3",
   "version": "3.10.0"
  }
 },
 "nbformat": 4,
 "nbformat_minor": 5
}
